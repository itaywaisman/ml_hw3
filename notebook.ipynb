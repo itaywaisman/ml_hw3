{
 "metadata": {
  "language_info": {
   "codemirror_mode": {
    "name": "ipython",
    "version": 3
   },
   "file_extension": ".py",
   "mimetype": "text/x-python",
   "name": "python",
   "nbconvert_exporter": "python",
   "pygments_lexer": "ipython3",
   "version": "3.8.6-final"
  },
  "orig_nbformat": 2,
  "kernelspec": {
   "name": "pycharm-64409fe0",
   "display_name": "PyCharm (ml_hw2)",
   "language": "python"
  }
 },
 "nbformat": 4,
 "nbformat_minor": 2,
 "cells": [
  {
   "cell_type": "code",
   "execution_count": 1,
   "metadata": {},
   "outputs": [],
   "source": [
    "import numpy as np\r\n",
    "from preprocessing.preprocess import load_data, split, preprocess\r\n",
    "from utils.save_to_csv import save_data_to_csv"
   ]
  },
  {
   "cell_type": "code",
   "execution_count": 2,
   "metadata": {},
   "outputs": [],
   "source": [
    "df = load_data('data/virus_hw2.csv')"
   ]
  },
  {
   "cell_type": "code",
   "execution_count": 3,
   "metadata": {},
   "outputs": [],
   "source": [
    "X_train, X_val, X_test, y_train, y_val, y_test = split(df)"
   ]
  },
  {
   "cell_type": "code",
   "execution_count": 4,
   "metadata": {},
   "outputs": [],
   "source": [
    "save_data_to_csv(X_train, X_val, X_test, y_train, y_val, y_test, suffix='before')"
   ]
  },
  {
   "cell_type": "code",
   "execution_count": 4,
   "metadata": {},
   "outputs": [],
   "source": [
    "X_train, X_val, X_test, y_train, y_val, y_test = preprocess(X_train, X_val, X_test, y_train, y_val, y_test)"
   ]
  },
  {
   "cell_type": "code",
   "execution_count": 7,
   "metadata": {},
   "outputs": [],
   "source": [
    "save_data_to_csv(X_train, X_val, X_test, y_train, y_val, y_test, suffix='after')"
   ]
  },
  {
   "cell_type": "code",
   "execution_count": 5,
   "metadata": {},
   "outputs": [],
   "source": [
    "from sklearn.model_selection import GridSearchCV, cross_val_score\r\n",
    "from sklearn.tree import DecisionTreeClassifier\r\n",
    "from sklearn import svm\r\n",
    "from sklearn.multioutput import MultiOutputClassifier\r\n",
    "from sklearn.ensemble import RandomForestClassifier\r\n",
    "from sklearn.neighbors import KNeighborsClassifier\r\n",
    "from sklearn.linear_model import LogisticRegression\r\n",
    "from sklearn.preprocessing import PolynomialFeatures\r\n",
    "from sklearn.linear_model import LinearRegression\r\n",
    "from sklearn.pipeline import Pipeline"
   ]
  },
  {
   "cell_type": "code",
   "execution_count": 6,
   "metadata": {},
   "outputs": [],
   "source": [
    "def grid_search(model, X, y, param_grid):\r\n",
    "    clf = GridSearchCV(estimator=model, param_grid=param_grid,\r\n",
    "                    n_jobs=-1)\r\n",
    "    clf.fit(X, y)\r\n",
    "    return clf "
   ]
  },
  {
   "cell_type": "code",
   "execution_count": 7,
   "metadata": {},
   "outputs": [
    {
     "output_type": "stream",
     "name": "stdout",
     "text": [
      "Finding best model for column Virus\n",
      "Fitting model SVC\n",
      "Fitting model KNN\n",
      "Fitting model RandomForest\n",
      "Fitting model LogisticRegression\n",
      "Fitting model PolynomialLinearRegression\n",
      "Finding best model for column Spreader\n",
      "Fitting model SVC\n",
      "Fitting model KNN\n",
      "Fitting model RandomForest\n",
      "Fitting model LogisticRegression\n",
      "Fitting model PolynomialLinearRegression\n",
      "Finding best model for column AtRisk\n",
      "Fitting model SVC\n",
      "Fitting model KNN\n",
      "Fitting model RandomForest\n",
      "Fitting model LogisticRegression\n",
      "Fitting model PolynomialLinearRegression\n"
     ]
    }
   ],
   "source": [
    "models = [('SVC', svm.SVC(kernel='rbf'), dict(C= np.logspace(-10, 0, 10))),\n",
    "          ('KNN', KNeighborsClassifier(), dict(n_neighbors=np.linspace(2,10,9, dtype=int))),\n",
    "          ('RandomForest', RandomForestClassifier(max_depth=10, random_state=0), dict(max_depth=np.linspace(2,16,15))),\n",
    "          ('LogisticRegression', LogisticRegression(random_state=0), dict()),\n",
    "          ('PolynomialLinearRegression',  Pipeline([('poly', PolynomialFeatures(degree=2)),\n",
    "                  ('linear', LogisticRegression())]), dict())]\n",
    "\n",
    "chosen_models = dict()\n",
    "\n",
    "for column in y_train.columns:\n",
    "    print(f'Finding best model for column {column}')\n",
    "    fitted_models = []\n",
    "    for name, model, param_grid in models:\n",
    "        print(f'Fitting model {name}')\n",
    "        clf = grid_search(model, X_train, y_train[column], param_grid)\n",
    "        fitted_models.append(clf)\n",
    "    chosen_models[column] = max(fitted_models,  key = lambda m: m.best_score_)"
   ]
  },
  {
   "cell_type": "code",
   "execution_count": 8,
   "metadata": {},
   "outputs": [
    {
     "output_type": "execute_result",
     "data": {
      "text/plain": [
       "[0.808, 0.8774285714285714, 0.782]"
      ]
     },
     "metadata": {},
     "execution_count": 8
    }
   ],
   "source": [
    "[chosen_models[key].best_score_ for key in chosen_models]"
   ]
  },
  {
   "cell_type": "code",
   "execution_count": 9,
   "metadata": {},
   "outputs": [
    {
     "output_type": "execute_result",
     "data": {
      "text/plain": [
       "{'Virus': GridSearchCV(estimator=RandomForestClassifier(max_depth=10, random_state=0),\n",
       "              n_jobs=-1,\n",
       "              param_grid={'max_depth': array([ 2.,  3.,  4.,  5.,  6.,  7.,  8.,  9., 10., 11., 12., 13., 14.,\n",
       "        15., 16.])}),\n",
       " 'Spreader': GridSearchCV(estimator=RandomForestClassifier(max_depth=10, random_state=0),\n",
       "              n_jobs=-1,\n",
       "              param_grid={'max_depth': array([ 2.,  3.,  4.,  5.,  6.,  7.,  8.,  9., 10., 11., 12., 13., 14.,\n",
       "        15., 16.])}),\n",
       " 'AtRisk': GridSearchCV(estimator=RandomForestClassifier(max_depth=10, random_state=0),\n",
       "              n_jobs=-1,\n",
       "              param_grid={'max_depth': array([ 2.,  3.,  4.,  5.,  6.,  7.,  8.,  9., 10., 11., 12., 13., 14.,\n",
       "        15., 16.])})}"
      ]
     },
     "metadata": {},
     "execution_count": 9
    }
   ],
   "source": [
    "chosen_models"
   ]
  },
  {
   "cell_type": "code",
   "execution_count": null,
   "metadata": {},
   "outputs": [],
   "source": [
    "for key in chosen_models:\n",
    "    chosen_models[key].score(X_val, y_val[key])"
   ]
  }
 ]
}